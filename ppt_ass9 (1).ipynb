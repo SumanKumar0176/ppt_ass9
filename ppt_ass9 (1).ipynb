{
 "cells": [
  {
   "cell_type": "code",
   "execution_count": 1,
   "id": "fdfa263d-4372-45ae-bba5-0d3e8f4af98e",
   "metadata": {},
   "outputs": [
    {
     "data": {
      "text/plain": [
       "'<aside>\\n💡 **Question 1**\\n\\nGiven an integer\\xa0`n`, return\\xa0*`true`\\xa0if it is a power of two. Otherwise, return\\xa0`false`*.\\n\\nAn integer\\xa0`n`\\xa0is a power of two, if there exists an integer\\xa0`x`\\xa0such that\\xa0`n == 2x`.\\n\\n**Example 1:**\\nInput: n = 1 \\n\\nOutput: true\\n\\n**Example 2:**\\nInput: n = 16 \\n\\nOutput: true\\n\\n**Example 3:**\\nInput: n = 3 \\n\\nOutput: false\\n\\n</aside>'"
      ]
     },
     "execution_count": 1,
     "metadata": {},
     "output_type": "execute_result"
    }
   ],
   "source": [
    "\"\"\"<aside>\n",
    "💡 **Question 1**\n",
    "\n",
    "Given an integer `n`, return *`true` if it is a power of two. Otherwise, return `false`*.\n",
    "\n",
    "An integer `n` is a power of two, if there exists an integer `x` such that `n == 2x`.\n",
    "\n",
    "**Example 1:**\n",
    "Input: n = 1 \n",
    "\n",
    "Output: true\n",
    "\n",
    "**Example 2:**\n",
    "Input: n = 16 \n",
    "\n",
    "Output: true\n",
    "\n",
    "**Example 3:**\n",
    "Input: n = 3 \n",
    "\n",
    "Output: false\n",
    "\n",
    "</aside>\"\"\""
   ]
  },
  {
   "cell_type": "code",
   "execution_count": 2,
   "id": "36794962-6339-4217-a82c-03335553b8fb",
   "metadata": {},
   "outputs": [],
   "source": [
    "def is_power_of_two(n):\n",
    "    if n <= 0:\n",
    "        return False\n",
    "    return (n & (n - 1)) == 0\n"
   ]
  },
  {
   "cell_type": "code",
   "execution_count": 3,
   "id": "97b37670-9e87-43e8-801b-f7912604da75",
   "metadata": {},
   "outputs": [
    {
     "name": "stdout",
     "output_type": "stream",
     "text": [
      "True\n",
      "True\n",
      "False\n"
     ]
    }
   ],
   "source": [
    "print(is_power_of_two(1))  # Output: True\n",
    "print(is_power_of_two(16))  # Output: True\n",
    "print(is_power_of_two(3))  # Output: False\n"
   ]
  },
  {
   "cell_type": "code",
   "execution_count": 4,
   "id": "d855a492-96d3-4e14-bbf5-d4d01c3ea000",
   "metadata": {},
   "outputs": [
    {
     "data": {
      "text/plain": [
       "'<aside>\\n💡 **Question 2**\\n\\nGiven a number n, find the sum of the first natural numbers.\\n\\n**Example 1:**\\n\\nInput: n = 3 \\n\\nOutput: 6\\n\\n**Example 2:**\\n\\nInput  : 5 \\n\\nOutput : 15\\n\\n</aside>'"
      ]
     },
     "execution_count": 4,
     "metadata": {},
     "output_type": "execute_result"
    }
   ],
   "source": [
    "\"\"\"<aside>\n",
    "💡 **Question 2**\n",
    "\n",
    "Given a number n, find the sum of the first natural numbers.\n",
    "\n",
    "**Example 1:**\n",
    "\n",
    "Input: n = 3 \n",
    "\n",
    "Output: 6\n",
    "\n",
    "**Example 2:**\n",
    "\n",
    "Input  : 5 \n",
    "\n",
    "Output : 15\n",
    "\n",
    "</aside>\"\"\""
   ]
  },
  {
   "cell_type": "code",
   "execution_count": 5,
   "id": "8793f2de-6151-4b26-9088-043b82d2145f",
   "metadata": {},
   "outputs": [],
   "source": [
    "\n",
    "def sum_of_natural_numbers(n):\n",
    "    return (n * (n + 1)) // 2\n",
    "\n"
   ]
  },
  {
   "cell_type": "code",
   "execution_count": 6,
   "id": "17bc607c-fbef-4613-a2a0-56d5dc0f78a0",
   "metadata": {},
   "outputs": [
    {
     "name": "stdout",
     "output_type": "stream",
     "text": [
      "6\n",
      "15\n"
     ]
    }
   ],
   "source": [
    "print(sum_of_natural_numbers(3))  # Output: 6\n",
    "print(sum_of_natural_numbers(5))  # Output: 15\n"
   ]
  },
  {
   "cell_type": "code",
   "execution_count": 8,
   "id": "c97ff7ba-5bcb-4588-b042-a127f5e409ef",
   "metadata": {},
   "outputs": [
    {
     "data": {
      "text/plain": [
       "'\\n💡 **Question 3**\\n\\n****Given a positive integer, N. Find the factorial of N. \\n\\n**Example 1:**\\n\\nInput: N = 5 \\n\\nOutput: 120\\n\\n**Example 2:**\\n\\nInput: N = 4\\n\\nOutput: 24\\n\\n'"
      ]
     },
     "execution_count": 8,
     "metadata": {},
     "output_type": "execute_result"
    }
   ],
   "source": [
    "\"\"\"\n",
    "💡 **Question 3**\n",
    "\n",
    "****Given a positive integer, N. Find the factorial of N. \n",
    "\n",
    "**Example 1:**\n",
    "\n",
    "Input: N = 5 \n",
    "\n",
    "Output: 120\n",
    "\n",
    "**Example 2:**\n",
    "\n",
    "Input: N = 4\n",
    "\n",
    "Output: 24\n",
    "\n",
    "\"\"\""
   ]
  },
  {
   "cell_type": "code",
   "execution_count": 9,
   "id": "83792dee-beb6-40f2-9305-a7d57968e68e",
   "metadata": {},
   "outputs": [],
   "source": [
    "def factorial(N):\n",
    "    result = 1\n",
    "    for i in range(1, N + 1):\n",
    "        result *= i\n",
    "    return result\n"
   ]
  },
  {
   "cell_type": "code",
   "execution_count": 10,
   "id": "5194c1a9-5eac-4839-83f6-174c2394c717",
   "metadata": {},
   "outputs": [
    {
     "name": "stdout",
     "output_type": "stream",
     "text": [
      "120\n",
      "24\n"
     ]
    }
   ],
   "source": [
    "print(factorial(5))  # Output: 120\n",
    "print(factorial(4))  # Output: 24\n"
   ]
  },
  {
   "cell_type": "code",
   "execution_count": 11,
   "id": "8b3a9c84-90b1-46bb-a10e-8d7a0bf5d7fe",
   "metadata": {},
   "outputs": [
    {
     "data": {
      "text/plain": [
       "'\\n\\n💡 **Question 4**\\n\\nGiven a number N and a power P, the task is to find the exponent of this number raised to the given power, i.e. N^P.\\n\\n**Example 1 :** \\n\\nInput: N = 5, P = 2\\n\\nOutput: 25\\n\\n**Example 2 :**\\nInput: N = 2, P = 5\\n\\nOutput: 32\\n\\n'"
      ]
     },
     "execution_count": 11,
     "metadata": {},
     "output_type": "execute_result"
    }
   ],
   "source": [
    "\"\"\"\n",
    "\n",
    "💡 **Question 4**\n",
    "\n",
    "Given a number N and a power P, the task is to find the exponent of this number raised to the given power, i.e. N^P.\n",
    "\n",
    "**Example 1 :** \n",
    "\n",
    "Input: N = 5, P = 2\n",
    "\n",
    "Output: 25\n",
    "\n",
    "**Example 2 :**\n",
    "Input: N = 2, P = 5\n",
    "\n",
    "Output: 32\n",
    "\n",
    "\"\"\""
   ]
  },
  {
   "cell_type": "code",
   "execution_count": 12,
   "id": "6afc62a1-040d-4a0a-8b81-344d162d459f",
   "metadata": {},
   "outputs": [],
   "source": [
    "def factorial(N):\n",
    "    result = 1\n",
    "    for i in range(1, N + 1):\n",
    "        result *= i\n",
    "    return result\n"
   ]
  },
  {
   "cell_type": "code",
   "execution_count": 13,
   "id": "b4bf38af-c6bc-413c-a011-ad9d915ec439",
   "metadata": {},
   "outputs": [
    {
     "name": "stdout",
     "output_type": "stream",
     "text": [
      "120\n",
      "24\n"
     ]
    }
   ],
   "source": [
    "print(factorial(5))  # Output: 120\n",
    "print(factorial(4))  # Output: 24\n"
   ]
  },
  {
   "cell_type": "code",
   "execution_count": 14,
   "id": "1bc9c808-8aa8-47c4-bf04-3da369d73a7a",
   "metadata": {},
   "outputs": [
    {
     "data": {
      "text/plain": [
       "'\\n\\n💡 **Question 5**\\n\\nGiven an array of integers\\xa0**arr**, the task is to find maximum element of that array using recursion.\\n\\n**Example 1:**\\n\\nInput: arr = {1, 4, 3, -5, -4, 8, 6};\\nOutput: 8\\n\\n**Example 2:**\\n\\nInput: arr = {1, 4, 45, 6, 10, -8};\\nOutput: 45\\n\\n'"
      ]
     },
     "execution_count": 14,
     "metadata": {},
     "output_type": "execute_result"
    }
   ],
   "source": [
    "\"\"\"\n",
    "\n",
    "💡 **Question 5**\n",
    "\n",
    "Given an array of integers **arr**, the task is to find maximum element of that array using recursion.\n",
    "\n",
    "**Example 1:**\n",
    "\n",
    "Input: arr = {1, 4, 3, -5, -4, 8, 6};\n",
    "Output: 8\n",
    "\n",
    "**Example 2:**\n",
    "\n",
    "Input: arr = {1, 4, 45, 6, 10, -8};\n",
    "Output: 45\n",
    "\n",
    "\"\"\""
   ]
  },
  {
   "cell_type": "code",
   "execution_count": 16,
   "id": "a0a51074-482a-4d23-be5f-96aecde0501b",
   "metadata": {},
   "outputs": [],
   "source": [
    "def find_max(arr):\n",
    "    if len(arr) == 1:\n",
    "        return arr[0]\n",
    "    else:\n",
    "        return max(arr[0], find_max(arr[1:]))\n"
   ]
  },
  {
   "cell_type": "code",
   "execution_count": 17,
   "id": "798814d5-bae7-4592-b64a-5c4113ba831b",
   "metadata": {},
   "outputs": [
    {
     "name": "stdout",
     "output_type": "stream",
     "text": [
      "8\n",
      "45\n"
     ]
    }
   ],
   "source": [
    "arr1 = [1, 4, 3, -5, -4, 8, 6]\n",
    "print(find_max(arr1))  # Output: 8\n",
    "\n",
    "arr2 = [1, 4, 45, 6, 10, -8]\n",
    "print(find_max(arr2))  # Output: 45\n"
   ]
  },
  {
   "cell_type": "code",
   "execution_count": 18,
   "id": "96fc2ac0-6d72-4cb4-8603-e46a2f3aa68c",
   "metadata": {},
   "outputs": [
    {
     "data": {
      "text/plain": [
       "'\\n💡 **Question 6**\\n\\nGiven first term (a), common difference (d) and a integer N of the Arithmetic Progression series, the task is to find Nth term of the series.\\n\\n**Example 1:**\\n\\nInput : a = 2 d = 1 N = 5\\nOutput : 6\\nThe 5th term of the series is : 6\\n\\n**Example 2:**\\n\\nInput : a = 5 d = 2 N = 10\\nOutput : 23\\nThe 10th term of the series is : 23\\n\\n'"
      ]
     },
     "execution_count": 18,
     "metadata": {},
     "output_type": "execute_result"
    }
   ],
   "source": [
    "\"\"\"\n",
    "💡 **Question 6**\n",
    "\n",
    "Given first term (a), common difference (d) and a integer N of the Arithmetic Progression series, the task is to find Nth term of the series.\n",
    "\n",
    "**Example 1:**\n",
    "\n",
    "Input : a = 2 d = 1 N = 5\n",
    "Output : 6\n",
    "The 5th term of the series is : 6\n",
    "\n",
    "**Example 2:**\n",
    "\n",
    "Input : a = 5 d = 2 N = 10\n",
    "Output : 23\n",
    "The 10th term of the series is : 23\n",
    "\n",
    "\"\"\""
   ]
  },
  {
   "cell_type": "code",
   "execution_count": 19,
   "id": "647b1b90-4f1e-4a84-bfaa-b474f52eeb6a",
   "metadata": {},
   "outputs": [],
   "source": [
    "def find_nth_term(a, d, N):\n",
    "    return a + (N - 1) * d\n"
   ]
  },
  {
   "cell_type": "code",
   "execution_count": 20,
   "id": "8c437ae4-aa3c-42a6-abaf-65976c38c769",
   "metadata": {},
   "outputs": [
    {
     "name": "stdout",
     "output_type": "stream",
     "text": [
      "6\n",
      "23\n"
     ]
    }
   ],
   "source": [
    "print(find_nth_term(2, 1, 5))  # Output: 6\n",
    "print(find_nth_term(5, 2, 10))  # Output: 23\n"
   ]
  },
  {
   "cell_type": "code",
   "execution_count": 21,
   "id": "fbc40167-17c5-444c-a17e-9fec647b023f",
   "metadata": {},
   "outputs": [
    {
     "data": {
      "text/plain": [
       "'\\n\\n💡 **Question 7**\\n\\nGiven a string S, the task is to write a program to print all permutations of a given string.\\n\\n**Example 1:**\\n\\n***Input:***\\n\\n*S = “ABC”*\\n\\n***Output:***\\n\\n*“ABC”, “ACB”, “BAC”, “BCA”, “CBA”, “CAB”*\\n\\n**Example 2:**\\n\\n***Input:***\\n\\n*S = “XY”*\\n\\n***Output:***\\n\\n*“XY”, “YX”*\\n'"
      ]
     },
     "execution_count": 21,
     "metadata": {},
     "output_type": "execute_result"
    }
   ],
   "source": [
    "\"\"\"\n",
    "\n",
    "💡 **Question 7**\n",
    "\n",
    "Given a string S, the task is to write a program to print all permutations of a given string.\n",
    "\n",
    "**Example 1:**\n",
    "\n",
    "***Input:***\n",
    "\n",
    "*S = “ABC”*\n",
    "\n",
    "***Output:***\n",
    "\n",
    "*“ABC”, “ACB”, “BAC”, “BCA”, “CBA”, “CAB”*\n",
    "\n",
    "**Example 2:**\n",
    "\n",
    "***Input:***\n",
    "\n",
    "*S = “XY”*\n",
    "\n",
    "***Output:***\n",
    "\n",
    "*“XY”, “YX”*\n",
    "\"\"\""
   ]
  },
  {
   "cell_type": "code",
   "execution_count": 22,
   "id": "3675dba7-736f-4f57-89d2-595145c12f30",
   "metadata": {},
   "outputs": [],
   "source": [
    "def generate_permutations(S):\n",
    "    if len(S) == 1:\n",
    "        return [S]\n",
    "\n",
    "    permutations = []\n",
    "    for i, ch in enumerate(S):\n",
    "        smaller_string = S[:i] + S[i+1:]\n",
    "        smaller_permutations = generate_permutations(smaller_string)\n",
    "        for perm in smaller_permutations:\n",
    "            permutations.append(ch + perm)\n",
    "\n",
    "    return permutations\n"
   ]
  },
  {
   "cell_type": "code",
   "execution_count": 23,
   "id": "e48c44d9-4c80-4a44-aa7e-404412c98352",
   "metadata": {},
   "outputs": [
    {
     "name": "stdout",
     "output_type": "stream",
     "text": [
      "['ABC', 'ACB', 'BAC', 'BCA', 'CAB', 'CBA']\n",
      "['XY', 'YX']\n"
     ]
    }
   ],
   "source": [
    "S1 = \"ABC\"\n",
    "print(generate_permutations(S1))\n",
    "# Output: ['ABC', 'ACB', 'BAC', 'BCA', 'CAB', 'CBA']\n",
    "\n",
    "S2 = \"XY\"\n",
    "print(generate_permutations(S2))\n",
    "# Output: ['XY', 'YX']\n"
   ]
  },
  {
   "cell_type": "code",
   "execution_count": 24,
   "id": "6b71e62a-f407-4472-9bb4-3565dc67f3d0",
   "metadata": {},
   "outputs": [
    {
     "data": {
      "text/plain": [
       "'\\n\\n💡 **Question 8**\\n\\nGiven an array, find a product of all array elements.\\n\\n**Example 1:**\\n\\nInput  : arr[] = {1, 2, 3, 4, 5}\\nOutput : 120\\n**Example 2:**\\n\\nInput  : arr[] = {1, 6, 3}\\nOutput : 18\\n\\n'"
      ]
     },
     "execution_count": 24,
     "metadata": {},
     "output_type": "execute_result"
    }
   ],
   "source": [
    "\"\"\"\n",
    "\n",
    "💡 **Question 8**\n",
    "\n",
    "Given an array, find a product of all array elements.\n",
    "\n",
    "**Example 1:**\n",
    "\n",
    "Input  : arr[] = {1, 2, 3, 4, 5}\n",
    "Output : 120\n",
    "**Example 2:**\n",
    "\n",
    "Input  : arr[] = {1, 6, 3}\n",
    "Output : 18\n",
    "\n",
    "\"\"\""
   ]
  },
  {
   "cell_type": "code",
   "execution_count": 25,
   "id": "209d8ff0-93d5-4ef6-b1bd-b0b655e3800c",
   "metadata": {},
   "outputs": [],
   "source": [
    "def product_of_array(arr):\n",
    "    product = 1\n",
    "    for num in arr:\n",
    "        product *= num\n",
    "    return product\n"
   ]
  },
  {
   "cell_type": "code",
   "execution_count": 26,
   "id": "5754bc30-a65d-4a1a-a9e8-d0b05ae09b68",
   "metadata": {},
   "outputs": [
    {
     "name": "stdout",
     "output_type": "stream",
     "text": [
      "120\n",
      "18\n"
     ]
    }
   ],
   "source": [
    "arr1 = [1, 2, 3, 4, 5]\n",
    "print(product_of_array(arr1))  # Output: 120\n",
    "\n",
    "arr2 = [1, 6, 3]\n",
    "print(product_of_array(arr2))  # Output: 18\n"
   ]
  },
  {
   "cell_type": "code",
   "execution_count": null,
   "id": "2b33a550-13e4-4e5b-9285-1ecab712a313",
   "metadata": {},
   "outputs": [],
   "source": []
  }
 ],
 "metadata": {
  "kernelspec": {
   "display_name": "Python 3 (ipykernel)",
   "language": "python",
   "name": "python3"
  },
  "language_info": {
   "codemirror_mode": {
    "name": "ipython",
    "version": 3
   },
   "file_extension": ".py",
   "mimetype": "text/x-python",
   "name": "python",
   "nbconvert_exporter": "python",
   "pygments_lexer": "ipython3",
   "version": "3.10.6"
  }
 },
 "nbformat": 4,
 "nbformat_minor": 5
}
